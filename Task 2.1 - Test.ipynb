{
 "cells": [
  {
   "cell_type": "code",
   "execution_count": 1,
   "id": "9822dd2d",
   "metadata": {},
   "outputs": [],
   "source": [
    "from keras.models import load_model\n",
    "from sklearn.metrics import accuracy_score\n",
    "import numpy as np"
   ]
  },
  {
   "cell_type": "code",
   "execution_count": 2,
   "id": "28cd41c1",
   "metadata": {},
   "outputs": [],
   "source": [
    "model = load_model('model_21.h5')"
   ]
  },
  {
   "cell_type": "markdown",
   "id": "f813dbe1",
   "metadata": {},
   "source": [
    "Для тестирования задать путь для тестовой выборки"
   ]
  },
  {
   "cell_type": "code",
   "execution_count": 3,
   "id": "61ed9613",
   "metadata": {},
   "outputs": [],
   "source": [
    "x_test = np.load('xtest.npy')\n",
    "y_test = np.load('ytest.npy')"
   ]
  },
  {
   "cell_type": "code",
   "execution_count": 4,
   "id": "6fd28dfc",
   "metadata": {},
   "outputs": [
    {
     "name": "stdout",
     "output_type": "stream",
     "text": [
      "1223/1223 [==============================] - 9s 3ms/step\n"
     ]
    },
    {
     "data": {
      "text/plain": [
       "0.9779169329073483"
      ]
     },
     "execution_count": 4,
     "metadata": {},
     "output_type": "execute_result"
    }
   ],
   "source": [
    "pred = model.predict(x_test)\n",
    "pred_threshed = np.where(pred > 0.5, 1.0, 0.0)\n",
    "accuracy_score(y_test, pred_threshed)"
   ]
  }
 ],
 "metadata": {
  "kernelspec": {
   "display_name": "Python 3 (ipykernel)",
   "language": "python",
   "name": "python3"
  },
  "language_info": {
   "codemirror_mode": {
    "name": "ipython",
    "version": 3
   },
   "file_extension": ".py",
   "mimetype": "text/x-python",
   "name": "python",
   "nbconvert_exporter": "python",
   "pygments_lexer": "ipython3",
   "version": "3.9.7"
  }
 },
 "nbformat": 4,
 "nbformat_minor": 5
}
